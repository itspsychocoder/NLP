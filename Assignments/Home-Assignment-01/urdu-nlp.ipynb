{
 "cells": [
  {
   "cell_type": "code",
   "execution_count": null,
   "metadata": {
    "vscode": {
     "languageId": "plaintext"
    }
   },
   "outputs": [],
   "source": [
    "import re\n",
    "\n",
    "file_path = 'urdu.txt'\n",
    "\n"
   ]
  },
  {
   "cell_type": "code",
   "execution_count": null,
   "metadata": {
    "vscode": {
     "languageId": "plaintext"
    }
   },
   "outputs": [],
   "source": [
    "\n",
    "def count_word_frequency(file_path):\n",
    "    try:\n",
    "        with open(file_path, 'r', encoding='utf-8') as file:\n",
    "            text = file.read().strip()\n",
    "\n",
    "\n",
    "        text = re.sub(r'[^\\w\\s\\u0600-\\u06FF]', '', text)\n",
    "        words = text.split()\n",
    "\n",
    "        total_tokens = len(words)\n",
    "\n",
    "        \n",
    "        word_count = {}\n",
    "        for word in words:\n",
    "            if word in word_count:\n",
    "                word_count[word] += 1 \n",
    "            else:\n",
    "                word_count[word] = 1\n",
    "\n",
    "        total_types = len(word_count)\n",
    "\n",
    "        # Print results\n",
    "        print(f\"\\n{'Word':<30} {'Frequency':<10}\")\n",
    "        print('-' * 50)\n",
    "     \n",
    "        with open(\"urdu-output.txt\", 'w', encoding='utf-8') as out:\n",
    "            out.write(f\"{'Word':<30} {'Frequency':<10}\\n\")\n",
    "            out.write('-' * 50 + '\\n')\n",
    "            for word, count in word_count.items():\n",
    "                out.write(f\"{word:<30} {count:<10}\\n\")\n",
    "\n",
    "            out.write(\"\\nStatistics:\\n\")\n",
    "            out.write(f\"Total Tokens (all words): {total_tokens}\\n\")\n",
    "            out.write(f\"Total Types (unique words): {total_types}\\n\")\n",
    "\n",
    "        print(f\"Results saved to {\"urdu-output.txt\"}\")\n",
    "\n",
    "    except FileNotFoundError:\n",
    "        print(f\"Error: The file '{file_path}' was not found.\")\n",
    "    except Exception as e:\n",
    "        print(f\"An error occurred: {e}\")\n"
   ]
  },
  {
   "cell_type": "code",
   "execution_count": null,
   "metadata": {
    "vscode": {
     "languageId": "plaintext"
    }
   },
   "outputs": [],
   "source": [
    "\n",
    "# Run the function\n",
    "count_word_frequency(file_path)"
   ]
  }
 ],
 "metadata": {
  "language_info": {
   "name": "python"
  }
 },
 "nbformat": 4,
 "nbformat_minor": 2
}
