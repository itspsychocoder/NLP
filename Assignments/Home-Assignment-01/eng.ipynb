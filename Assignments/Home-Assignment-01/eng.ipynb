{
 "cells": [
  {
   "cell_type": "code",
   "execution_count": null,
   "metadata": {
    "vscode": {
     "languageId": "plaintext"
    }
   },
   "outputs": [],
   "source": [
    "file_path = 'eng.txt'"
   ]
  },
  {
   "cell_type": "code",
   "execution_count": null,
   "metadata": {
    "vscode": {
     "languageId": "plaintext"
    }
   },
   "outputs": [],
   "source": [
    "\n",
    "def count_word_frequency(file_path):\n",
    "    try:\n",
    "        with open(file_path, 'r', encoding='utf-8') as file:\n",
    "            text = file.read().lower()\n",
    "\n",
    "        \n",
    "        words = text.split()\n",
    "        total_tokens = len(words)\n",
    "        \n",
    "        word_count = {}\n",
    "        for word in words:\n",
    "            if word in word_count:\n",
    "                word_count[word] += 1\n",
    "            else:\n",
    "                word_count[word] = 1\n",
    "        \n",
    "        total_types = len(word_count)\n",
    "\n",
    "        print(f\"\\n{'Word':<20} {'Frequency':<10}\")\n",
    "        print('-' * 30)\n",
    "        for word, count in word_count.items():\n",
    "            print(f\"{word:<20} {count:<10}\")\n",
    "\n",
    "        print(\"\\n\\n\")\n",
    "        print(f\"Total Tokens (all words): {total_tokens}\")\n",
    "        print(f\"Total Types (unique words): {total_types}\")\n",
    "\n",
    "    except FileNotFoundError:\n",
    "        print(f\"Error: The file '{file_path}' was not found.\")\n",
    "    except Exception as e:\n",
    "        print(f\"An error occurred: {e}\")\n"
   ]
  },
  {
   "cell_type": "code",
   "execution_count": null,
   "metadata": {
    "vscode": {
     "languageId": "plaintext"
    }
   },
   "outputs": [],
   "source": [
    "\n",
    "# Run the function\n",
    "count_word_frequency(file_path)\n"
   ]
  }
 ],
 "metadata": {
  "language_info": {
   "name": "python"
  }
 },
 "nbformat": 4,
 "nbformat_minor": 2
}
