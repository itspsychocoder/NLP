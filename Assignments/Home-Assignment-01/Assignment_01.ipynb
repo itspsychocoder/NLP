{
  "cells": [
    {
      "cell_type": "markdown",
      "source": [
        "# Find word tokens and frequency"
      ],
      "metadata": {
        "id": "dvxH3tfZmNwI"
      }
    },
    {
      "cell_type": "code",
      "source": [
        "%%writefile eng.txt\n",
        "Hello world! This is a sample text file.\n",
        "This text file is used to test the word frequency counter.\n",
        "Hello again! Let's count how many times each word appears in this file.\n",
        "The word 'Hello' appears multiple times in this text file."
      ],
      "metadata": {
        "id": "66ggiYGuRaFx",
        "outputId": "8c42a185-768b-4368-d8bd-ffbc388a14b6",
        "colab": {
          "base_uri": "https://localhost:8080/"
        }
      },
      "execution_count": null,
      "outputs": [
        {
          "output_type": "stream",
          "name": "stdout",
          "text": [
            "Writing eng.txt\n"
          ]
        }
      ]
    },
    {
      "cell_type": "code",
      "execution_count": null,
      "metadata": {
        "vscode": {
          "languageId": "plaintext"
        },
        "id": "NbzVtVSTOgiG"
      },
      "outputs": [],
      "source": [
        "file_path = '/content/eng.txt'"
      ]
    },
    {
      "cell_type": "code",
      "execution_count": null,
      "metadata": {
        "vscode": {
          "languageId": "plaintext"
        },
        "id": "lVmm3FTeOgiK"
      },
      "outputs": [],
      "source": [
        "\n",
        "def count_word_frequency(file_path):\n",
        "    try:\n",
        "        with open(file_path, 'r', encoding='utf-8') as file:\n",
        "            text = file.read().lower()\n",
        "\n",
        "\n",
        "        words = text.split()\n",
        "        total_tokens = len(words)\n",
        "\n",
        "        word_count = {}\n",
        "        for word in words:\n",
        "            if word in word_count:\n",
        "                word_count[word] += 1\n",
        "            else:\n",
        "                word_count[word] = 1\n",
        "\n",
        "        total_types = len(word_count)\n",
        "\n",
        "        print(f\"\\n{'Word':<20} {'Frequency':<10}\")\n",
        "        print('-' * 30)\n",
        "        for word, count in word_count.items():\n",
        "            print(f\"{word:<20} {count:<10}\")\n",
        "\n",
        "        print(\"\\n\\n\")\n",
        "        print(f\"Total Tokens (all words): {total_tokens}\")\n",
        "        print(f\"Total Types (unique words): {total_types}\")\n",
        "\n",
        "    except FileNotFoundError:\n",
        "        print(f\"Error: The file '{file_path}' was not found.\")\n",
        "    except Exception as e:\n",
        "        print(f\"An error occurred: {e}\")\n"
      ]
    },
    {
      "cell_type": "code",
      "execution_count": null,
      "metadata": {
        "vscode": {
          "languageId": "plaintext"
        },
        "id": "KsBoAUlxOgiM",
        "outputId": "4b5d72fb-c5fb-4960-9133-543b1811ea3e",
        "colab": {
          "base_uri": "https://localhost:8080/"
        }
      },
      "outputs": [
        {
          "output_type": "stream",
          "name": "stdout",
          "text": [
            "\n",
            "Word                 Frequency \n",
            "------------------------------\n",
            "hello                2         \n",
            "world!               1         \n",
            "this                 4         \n",
            "is                   2         \n",
            "a                    1         \n",
            "sample               1         \n",
            "text                 3         \n",
            "file.                3         \n",
            "file                 1         \n",
            "used                 1         \n",
            "to                   1         \n",
            "test                 1         \n",
            "the                  2         \n",
            "word                 3         \n",
            "frequency            1         \n",
            "counter.             1         \n",
            "again!               1         \n",
            "let's                1         \n",
            "count                1         \n",
            "how                  1         \n",
            "many                 1         \n",
            "times                2         \n",
            "each                 1         \n",
            "appears              2         \n",
            "in                   2         \n",
            "'hello'              1         \n",
            "multiple             1         \n",
            "\n",
            "\n",
            "\n",
            "Total Tokens (all words): 42\n",
            "Total Types (unique words): 27\n"
          ]
        }
      ],
      "source": [
        "\n",
        "# Run the function\n",
        "count_word_frequency(file_path)\n"
      ]
    },
    {
      "cell_type": "markdown",
      "source": [
        "# For Urdu"
      ],
      "metadata": {
        "id": "95Tr3kjPRh4k"
      }
    },
    {
      "cell_type": "code",
      "source": [
        "%%writefile urdu.txt\n",
        "یہ ایک مثال ہے۔ یہ مثال الفاظ کی گنتی کے لیے ہے۔\n",
        "یہ الفاظ کو گننے کا ایک آسان طریقہ ہے۔"
      ],
      "metadata": {
        "id": "6NuGQm3QRjf0",
        "outputId": "c59c26ab-bd64-4aba-9492-c01b8ebcf15f",
        "colab": {
          "base_uri": "https://localhost:8080/"
        }
      },
      "execution_count": null,
      "outputs": [
        {
          "output_type": "stream",
          "name": "stdout",
          "text": [
            "Writing urdu.txt\n"
          ]
        }
      ]
    },
    {
      "cell_type": "code",
      "source": [
        "import re\n",
        "\n",
        "file_path = '/content/urdu.txt'\n",
        "\n",
        "def count_word_frequency(file_path):\n",
        "    try:\n",
        "        with open(file_path, 'r', encoding='utf-8') as file:\n",
        "            text = file.read().strip()\n",
        "\n",
        "\n",
        "        text = re.sub(r'[^\\w\\s\\u0600-\\u06FF]', '', text)\n",
        "        words = text.split()\n",
        "\n",
        "        total_tokens = len(words)\n",
        "\n",
        "\n",
        "        word_count = {}\n",
        "        for word in words:\n",
        "            if word in word_count:\n",
        "                word_count[word] += 1\n",
        "            else:\n",
        "                word_count[word] = 1\n",
        "\n",
        "        total_types = len(word_count)\n",
        "\n",
        "        # Print results\n",
        "        print(f\"\\n{'Word':<30} {'Frequency':<10}\")\n",
        "        print('-' * 50)\n",
        "\n",
        "        print(f\"Total Tokens (all words): {total_tokens}\\n\")\n",
        "        print(f\"Total Types (unique words): {total_types}\\n\")\n",
        "\n",
        "        with open(\"urdu-output.txt\", 'w', encoding='utf-8') as out:\n",
        "            out.write(f\"{'Word':<30} {'Frequency':<10}\\n\")\n",
        "            out.write('-' * 50 + '\\n')\n",
        "            for word, count in word_count.items():\n",
        "                out.write(f\"{word:<30} {count:<10}\\n\")\n",
        "\n",
        "            print(\"\\nStatistics:\\n\")\n",
        "            print(f\"{'Word':<30} {'Frequency':<10}\\n\")\n",
        "            print('-' * 50 + '\\n')\n",
        "            for word, count in word_count.items():\n",
        "                print(f\"{word:<30} {count:<10}\\n\")\n",
        "            out.write(f\"Total Tokens (all words): {total_tokens}\\n\")\n",
        "            out.write(f\"Total Types (unique words): {total_types}\\n\")\n",
        "\n",
        "        print(f\"Results saved to urdu-output.txt\")\n",
        "\n",
        "    except FileNotFoundError:\n",
        "        print(f\"Error: The file '{file_path}' was not found.\")\n",
        "    except Exception as e:\n",
        "        print(f\"An error occurred: {e}\")\n",
        "\n",
        "# Run the function\n",
        "count_word_frequency(file_path)\n"
      ],
      "metadata": {
        "id": "t2_qUyZeRoAH",
        "outputId": "67dfca1a-71c5-43ce-fbda-f8f075c04dfc",
        "colab": {
          "base_uri": "https://localhost:8080/"
        }
      },
      "execution_count": null,
      "outputs": [
        {
          "output_type": "stream",
          "name": "stdout",
          "text": [
            "\n",
            "Word                           Frequency \n",
            "--------------------------------------------------\n",
            "Total Tokens (all words): 21\n",
            "\n",
            "Total Types (unique words): 14\n",
            "\n",
            "\n",
            "Statistics:\n",
            "\n",
            "Word                           Frequency \n",
            "\n",
            "--------------------------------------------------\n",
            "\n",
            "یہ                             3         \n",
            "\n",
            "ایک                            2         \n",
            "\n",
            "مثال                           2         \n",
            "\n",
            "ہے۔                            3         \n",
            "\n",
            "الفاظ                          2         \n",
            "\n",
            "کی                             1         \n",
            "\n",
            "گنتی                           1         \n",
            "\n",
            "کے                             1         \n",
            "\n",
            "لیے                            1         \n",
            "\n",
            "کو                             1         \n",
            "\n",
            "گننے                           1         \n",
            "\n",
            "کا                             1         \n",
            "\n",
            "آسان                           1         \n",
            "\n",
            "طریقہ                          1         \n",
            "\n",
            "Results saved to urdu-output.txt\n"
          ]
        }
      ]
    },
    {
      "cell_type": "code",
      "source": [],
      "metadata": {
        "id": "aGET5I0DRyPE"
      },
      "execution_count": null,
      "outputs": []
    },
    {
      "cell_type": "markdown",
      "source": [
        "# Joiners & Non-Joiners"
      ],
      "metadata": {
        "id": "XAbtnCgKmqUq"
      }
    },
    {
      "cell_type": "code",
      "source": [
        "joiners = [\n",
        "    \"ب\", \"پ\", \"ت\", \"ث\", \"ج\", \"چ\", \"ح\", \"خ\", \"س\", \"ش\", \"ص\", \"ض\",\n",
        "    \"ط\", \"ظ\", \"ع\", \"غ\", \"ف\", \"ق\", \"ک\", \"گ\", \"ل\", \"م\", \"ن\", \"ہ\", \"ی\"\n",
        "]\n",
        "\n",
        "print(joiners)\n"
      ],
      "metadata": {
        "id": "LoX0Jbvrms3R",
        "outputId": "3fbbe7c5-7f6a-4c35-9bd5-920b4a7c4910",
        "colab": {
          "base_uri": "https://localhost:8080/"
        }
      },
      "execution_count": 4,
      "outputs": [
        {
          "output_type": "stream",
          "name": "stdout",
          "text": [
            "['ب', 'پ', 'ت', 'ث', 'ج', 'چ', 'ح', 'خ', 'س', 'ش', 'ص', 'ض', 'ط', 'ظ', 'ع', 'غ', 'ف', 'ق', 'ک', 'گ', 'ل', 'م', 'ن', 'ہ', 'ی']\n"
          ]
        }
      ]
    },
    {
      "cell_type": "code",
      "source": [
        "non_joiners = [\n",
        "    \"ا\", \"د\", \"ڈ\", \"ذ\", \"ر\", \"ڑ\", \"ز\", \"ژ\", \"و\"\n",
        "]\n",
        "\n",
        "print(non_joiners)\n"
      ],
      "metadata": {
        "id": "ts9q4H56muFE",
        "outputId": "07faed1f-f68b-44bf-ed8d-4a41c37082e8",
        "colab": {
          "base_uri": "https://localhost:8080/"
        }
      },
      "execution_count": 3,
      "outputs": [
        {
          "output_type": "stream",
          "name": "stdout",
          "text": [
            "['ا', 'د', 'ڈ', 'ذ', 'ر', 'ڑ', 'ز', 'ژ', 'و']\n"
          ]
        }
      ]
    },
    {
      "cell_type": "code",
      "source": [],
      "metadata": {
        "id": "zrsASCi9myTk"
      },
      "execution_count": null,
      "outputs": []
    }
  ],
  "metadata": {
    "language_info": {
      "name": "python"
    },
    "colab": {
      "provenance": []
    },
    "kernelspec": {
      "name": "python3",
      "display_name": "Python 3"
    }
  },
  "nbformat": 4,
  "nbformat_minor": 0
}