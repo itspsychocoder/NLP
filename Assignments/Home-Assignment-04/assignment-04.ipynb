{
 "cells": [
  {
   "cell_type": "code",
   "execution_count": 9,
   "metadata": {},
   "outputs": [],
   "source": [
    "def get_unicode_of_character():\n",
    "    isTrue = True\n",
    "    while isTrue:\n",
    "        char = input(\"Enter a character: \")\n",
    "        if char == \"exit\":\n",
    "            isTrue = False\n",
    "            return\n",
    "        unicode_value = ord(char)\n",
    "        print(f\"The Unicode of '{char}' is: U+{unicode_value:04X} ({unicode_value})\")\n"
   ]
  },
  {
   "cell_type": "code",
   "execution_count": 10,
   "metadata": {},
   "outputs": [
    {
     "name": "stdout",
     "output_type": "stream",
     "text": [
      "The Unicode of 't' is: U+0074 (116)\n",
      "The Unicode of 'H' is: U+0048 (72)\n",
      "The Unicode of 'H' is: U+0048 (72)\n",
      "The Unicode of 'a' is: U+0061 (97)\n",
      "The Unicode of 'y' is: U+0079 (121)\n",
      "The Unicode of 'a' is: U+0061 (97)\n",
      "The Unicode of 'y' is: U+0079 (121)\n",
      "The Unicode of 't' is: U+0074 (116)\n"
     ]
    }
   ],
   "source": [
    "get_unicode_of_character()"
   ]
  },
  {
   "cell_type": "code",
   "execution_count": null,
   "metadata": {},
   "outputs": [],
   "source": []
  }
 ],
 "metadata": {
  "kernelspec": {
   "display_name": "Python 3",
   "language": "python",
   "name": "python3"
  },
  "language_info": {
   "codemirror_mode": {
    "name": "ipython",
    "version": 3
   },
   "file_extension": ".py",
   "mimetype": "text/x-python",
   "name": "python",
   "nbconvert_exporter": "python",
   "pygments_lexer": "ipython3",
   "version": "3.13.1"
  }
 },
 "nbformat": 4,
 "nbformat_minor": 2
}
