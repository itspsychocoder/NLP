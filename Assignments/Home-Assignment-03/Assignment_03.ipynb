{
  "nbformat": 4,
  "nbformat_minor": 0,
  "metadata": {
    "colab": {
      "provenance": []
    },
    "kernelspec": {
      "name": "python3",
      "display_name": "Python 3"
    },
    "language_info": {
      "name": "python"
    }
  },
  "cells": [
    {
      "cell_type": "code",
      "execution_count": 8,
      "metadata": {
        "colab": {
          "base_uri": "https://localhost:8080/"
        },
        "id": "X1GnHDHQjkyj",
        "outputId": "2896510f-58a0-445f-9608-89f1df0cbca7"
      },
      "outputs": [
        {
          "output_type": "stream",
          "name": "stdout",
          "text": [
            "Writing urdu7.txt\n"
          ]
        }
      ],
      "source": [
        "%%writefile urdu7.txt\n",
        "یہ ایک مثال ہے۔ یہ مثال الفاظ کی گنتی کے لیے ہے۔\n",
        "یہ الفاظ کو گننے کا"
      ]
    },
    {
      "cell_type": "code",
      "source": [
        "import os"
      ],
      "metadata": {
        "id": "3mG5bJwNkO9b"
      },
      "execution_count": 11,
      "outputs": []
    },
    {
      "cell_type": "code",
      "source": [
        "\n",
        "def count_word_frequency(file_path):\n",
        "    print(f\"Statistics for file: {file_path}\")\n",
        "    try:\n",
        "        with open(file_path, 'r', encoding='utf-8') as file:\n",
        "            text = file.read().lower()\n",
        "\n",
        "\n",
        "        words = text.split()\n",
        "        total_tokens = len(words)\n",
        "\n",
        "        word_count = {}\n",
        "        for word in words:\n",
        "            if word in word_count:\n",
        "                word_count[word] += 1\n",
        "            else:\n",
        "                word_count[word] = 1\n",
        "\n",
        "        total_types = len(word_count)\n",
        "\n",
        "        print(f\"\\n{'Word':<20} {'Frequency':<10}\")\n",
        "        print('-' * 30)\n",
        "        for word, count in word_count.items():\n",
        "            print(f\"{word:<20} {count:<10}\")\n",
        "\n",
        "\n",
        "        print(f\"Total Tokens (all words): {total_tokens}\")\n",
        "        print(f\"Total Types (unique words): {total_types}\")\n",
        "        print(\"\\n\\n\")\n",
        "\n",
        "    except FileNotFoundError:\n",
        "        print(f\"Error: The file '{file_path}' was not found.\")\n",
        "    except Exception as e:\n",
        "        print(f\"An error occurred: {e}\")\n"
      ],
      "metadata": {
        "id": "SQPqfl_SjyHM"
      },
      "execution_count": 20,
      "outputs": []
    },
    {
      "cell_type": "code",
      "source": [
        "files = os.listdir(\"/content/content\")"
      ],
      "metadata": {
        "id": "EC1WPwllkIWT"
      },
      "execution_count": 21,
      "outputs": []
    },
    {
      "cell_type": "code",
      "source": [
        "files"
      ],
      "metadata": {
        "colab": {
          "base_uri": "https://localhost:8080/"
        },
        "id": "tjGoIedJkNHP",
        "outputId": "351f079d-47a0-40d3-d251-2fc5db25cf5d"
      },
      "execution_count": 22,
      "outputs": [
        {
          "output_type": "execute_result",
          "data": {
            "text/plain": [
              "['urdu6.txt',\n",
              " 'urdu3.txt',\n",
              " 'urdu7.txt',\n",
              " 'urdu4.txt',\n",
              " 'urdu2.txt',\n",
              " 'urdu1.txt',\n",
              " 'urdu5.txt']"
            ]
          },
          "metadata": {},
          "execution_count": 22
        }
      ]
    },
    {
      "cell_type": "code",
      "source": [
        "for file in files:\n",
        "  count_word_frequency(f\"/content/content/{file}\")"
      ],
      "metadata": {
        "colab": {
          "base_uri": "https://localhost:8080/"
        },
        "id": "d8DwSMqWkRS6",
        "outputId": "7c9b9762-82a5-4030-edad-8f71bce410dc"
      },
      "execution_count": 23,
      "outputs": [
        {
          "output_type": "stream",
          "name": "stdout",
          "text": [
            "Statistics for file: /content/content/urdu6.txt\n",
            "\n",
            "Word                 Frequency \n",
            "------------------------------\n",
            "یہ                   3         \n",
            "ایک                  1         \n",
            "مثال                 2         \n",
            "ہے۔                  2         \n",
            "الفاظ                2         \n",
            "کی                   1         \n",
            "گنتی                 1         \n",
            "کے                   1         \n",
            "لیے                  1         \n",
            "کو                   1         \n",
            "گننے                 1         \n",
            "کا                   1         \n",
            "Total Tokens (all words): 17\n",
            "Total Types (unique words): 12\n",
            "\n",
            "\n",
            "\n",
            "Statistics for file: /content/content/urdu3.txt\n",
            "\n",
            "Word                 Frequency \n",
            "------------------------------\n",
            "یہ                   3         \n",
            "ایک                  2         \n",
            "مثال                 2         \n",
            "ہے۔                  2         \n",
            "الفاظ                2         \n",
            "کی                   1         \n",
            "گنتی                 1         \n",
            "کے                   1         \n",
            "لیے                  1         \n",
            "کو                   1         \n",
            "گننے                 1         \n",
            "کا                   1         \n",
            "آسان                 1         \n",
            "Total Tokens (all words): 19\n",
            "Total Types (unique words): 13\n",
            "\n",
            "\n",
            "\n",
            "Statistics for file: /content/content/urdu7.txt\n",
            "\n",
            "Word                 Frequency \n",
            "------------------------------\n",
            "یہ                   3         \n",
            "ایک                  1         \n",
            "مثال                 2         \n",
            "ہے۔                  2         \n",
            "الفاظ                2         \n",
            "کی                   1         \n",
            "گنتی                 1         \n",
            "کے                   1         \n",
            "لیے                  1         \n",
            "کو                   1         \n",
            "گننے                 1         \n",
            "کا                   1         \n",
            "Total Tokens (all words): 17\n",
            "Total Types (unique words): 12\n",
            "\n",
            "\n",
            "\n",
            "Statistics for file: /content/content/urdu4.txt\n",
            "\n",
            "Word                 Frequency \n",
            "------------------------------\n",
            "یہ                   3         \n",
            "ایک                  2         \n",
            "مثال                 2         \n",
            "ہے۔                  2         \n",
            "الفاظ                2         \n",
            "کی                   1         \n",
            "گنتی                 1         \n",
            "کے                   1         \n",
            "لیے                  1         \n",
            "کو                   1         \n",
            "گننے                 1         \n",
            "کا                   1         \n",
            "آسان                 1         \n",
            "Total Tokens (all words): 19\n",
            "Total Types (unique words): 13\n",
            "\n",
            "\n",
            "\n",
            "Statistics for file: /content/content/urdu2.txt\n",
            "\n",
            "Word                 Frequency \n",
            "------------------------------\n",
            "یہ                   3         \n",
            "ایک                  2         \n",
            "مثال                 2         \n",
            "ہے۔                  2         \n",
            "الفاظ                2         \n",
            "کی                   1         \n",
            "گنتی                 1         \n",
            "کے                   1         \n",
            "لیے                  1         \n",
            "کو                   1         \n",
            "گننے                 1         \n",
            "کا                   1         \n",
            "آسان                 1         \n",
            "طریقہ                1         \n",
            "Total Tokens (all words): 20\n",
            "Total Types (unique words): 14\n",
            "\n",
            "\n",
            "\n",
            "Statistics for file: /content/content/urdu1.txt\n",
            "\n",
            "Word                 Frequency \n",
            "------------------------------\n",
            "یہ                   3         \n",
            "ایک                  2         \n",
            "مثال                 2         \n",
            "ہے۔                  3         \n",
            "الفاظ                2         \n",
            "کی                   1         \n",
            "گنتی                 1         \n",
            "کے                   1         \n",
            "لیے                  1         \n",
            "کو                   1         \n",
            "گننے                 1         \n",
            "کا                   1         \n",
            "آسان                 1         \n",
            "طریقہ                1         \n",
            "Total Tokens (all words): 21\n",
            "Total Types (unique words): 14\n",
            "\n",
            "\n",
            "\n",
            "Statistics for file: /content/content/urdu5.txt\n",
            "\n",
            "Word                 Frequency \n",
            "------------------------------\n",
            "یہ                   3         \n",
            "ایک                  2         \n",
            "مثال                 2         \n",
            "ہے۔                  2         \n",
            "الفاظ                2         \n",
            "کی                   1         \n",
            "گنتی                 1         \n",
            "کے                   1         \n",
            "لیے                  1         \n",
            "کو                   1         \n",
            "گننے                 1         \n",
            "کا                   1         \n",
            "Total Tokens (all words): 18\n",
            "Total Types (unique words): 12\n",
            "\n",
            "\n",
            "\n"
          ]
        }
      ]
    },
    {
      "cell_type": "code",
      "source": [],
      "metadata": {
        "id": "X0fBZqa_ktXh"
      },
      "execution_count": null,
      "outputs": []
    },
    {
      "cell_type": "markdown",
      "source": [
        "# Regex"
      ],
      "metadata": {
        "id": "GBh_x-f2k-48"
      }
    },
    {
      "cell_type": "code",
      "source": [
        "import re\n",
        "\n",
        "# Sample paragraph\n",
        "paragraph = \"The quick brown fox jumps over the lazy dog. The sun is shining.\"\n",
        "\n",
        "\n",
        "pattern = r'\\bthe\\b'\n",
        "\n",
        "\n",
        "matches = re.findall(pattern, paragraph, re.IGNORECASE)\n",
        "\n",
        "\n",
        "print(matches)\n"
      ],
      "metadata": {
        "colab": {
          "base_uri": "https://localhost:8080/"
        },
        "id": "iNNx08L9k_sm",
        "outputId": "67c86c89-698f-4d53-b9aa-952d7fbd9711"
      },
      "execution_count": 25,
      "outputs": [
        {
          "output_type": "stream",
          "name": "stdout",
          "text": [
            "['The', 'the', 'The']\n"
          ]
        }
      ]
    },
    {
      "cell_type": "code",
      "source": [],
      "metadata": {
        "id": "xsrSUQmWlACd"
      },
      "execution_count": null,
      "outputs": []
    }
  ]
}